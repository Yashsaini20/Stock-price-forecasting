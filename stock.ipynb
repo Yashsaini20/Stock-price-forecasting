{
 "cells": [
  {
   "cell_type": "markdown",
   "source": [
    "## Collecting the stock data -- AAPL"
   ],
   "metadata": {}
  },
  {
   "cell_type": "code",
   "execution_count": 1,
   "source": [
    "import pandas_datareader as pdr"
   ],
   "outputs": [],
   "metadata": {}
  },
  {
   "cell_type": "code",
   "execution_count": 2,
   "source": [
    "df  = pdr.get_data_tiingo('AAPL',api_key='')"
   ],
   "outputs": [],
   "metadata": {}
  },
  {
   "cell_type": "code",
   "execution_count": 3,
   "source": [
    "df"
   ],
   "outputs": [
    {
     "output_type": "execute_result",
     "data": {
      "text/html": [
       "<div>\n",
       "<style scoped>\n",
       "    .dataframe tbody tr th:only-of-type {\n",
       "        vertical-align: middle;\n",
       "    }\n",
       "\n",
       "    .dataframe tbody tr th {\n",
       "        vertical-align: top;\n",
       "    }\n",
       "\n",
       "    .dataframe thead th {\n",
       "        text-align: right;\n",
       "    }\n",
       "</style>\n",
       "<table border=\"1\" class=\"dataframe\">\n",
       "  <thead>\n",
       "    <tr style=\"text-align: right;\">\n",
       "      <th></th>\n",
       "      <th></th>\n",
       "      <th>close</th>\n",
       "      <th>high</th>\n",
       "      <th>low</th>\n",
       "      <th>open</th>\n",
       "      <th>volume</th>\n",
       "      <th>adjClose</th>\n",
       "      <th>adjHigh</th>\n",
       "      <th>adjLow</th>\n",
       "      <th>adjOpen</th>\n",
       "      <th>adjVolume</th>\n",
       "      <th>divCash</th>\n",
       "      <th>splitFactor</th>\n",
       "    </tr>\n",
       "    <tr>\n",
       "      <th>symbol</th>\n",
       "      <th>date</th>\n",
       "      <th></th>\n",
       "      <th></th>\n",
       "      <th></th>\n",
       "      <th></th>\n",
       "      <th></th>\n",
       "      <th></th>\n",
       "      <th></th>\n",
       "      <th></th>\n",
       "      <th></th>\n",
       "      <th></th>\n",
       "      <th></th>\n",
       "      <th></th>\n",
       "    </tr>\n",
       "  </thead>\n",
       "  <tbody>\n",
       "    <tr>\n",
       "      <th rowspan=\"11\" valign=\"top\">AAPL</th>\n",
       "      <th>2016-07-29 00:00:00+00:00</th>\n",
       "      <td>104.21</td>\n",
       "      <td>104.5500</td>\n",
       "      <td>103.68</td>\n",
       "      <td>104.190</td>\n",
       "      <td>27733688</td>\n",
       "      <td>24.334436</td>\n",
       "      <td>24.413831</td>\n",
       "      <td>24.210674</td>\n",
       "      <td>24.329766</td>\n",
       "      <td>110934752</td>\n",
       "      <td>0.00</td>\n",
       "      <td>1.0</td>\n",
       "    </tr>\n",
       "    <tr>\n",
       "      <th>2016-08-01 00:00:00+00:00</th>\n",
       "      <td>106.05</td>\n",
       "      <td>106.1500</td>\n",
       "      <td>104.41</td>\n",
       "      <td>104.410</td>\n",
       "      <td>38167871</td>\n",
       "      <td>24.764101</td>\n",
       "      <td>24.787452</td>\n",
       "      <td>24.381139</td>\n",
       "      <td>24.381139</td>\n",
       "      <td>152671484</td>\n",
       "      <td>0.00</td>\n",
       "      <td>1.0</td>\n",
       "    </tr>\n",
       "    <tr>\n",
       "      <th>2016-08-02 00:00:00+00:00</th>\n",
       "      <td>104.48</td>\n",
       "      <td>106.0700</td>\n",
       "      <td>104.00</td>\n",
       "      <td>106.050</td>\n",
       "      <td>33816556</td>\n",
       "      <td>24.397485</td>\n",
       "      <td>24.768771</td>\n",
       "      <td>24.285399</td>\n",
       "      <td>24.764101</td>\n",
       "      <td>135266224</td>\n",
       "      <td>0.00</td>\n",
       "      <td>1.0</td>\n",
       "    </tr>\n",
       "    <tr>\n",
       "      <th>2016-08-03 00:00:00+00:00</th>\n",
       "      <td>105.79</td>\n",
       "      <td>105.8400</td>\n",
       "      <td>104.77</td>\n",
       "      <td>104.810</td>\n",
       "      <td>30202641</td>\n",
       "      <td>24.703388</td>\n",
       "      <td>24.715063</td>\n",
       "      <td>24.465204</td>\n",
       "      <td>24.474544</td>\n",
       "      <td>120810564</td>\n",
       "      <td>0.00</td>\n",
       "      <td>1.0</td>\n",
       "    </tr>\n",
       "    <tr>\n",
       "      <th>2016-08-04 00:00:00+00:00</th>\n",
       "      <td>105.87</td>\n",
       "      <td>106.0000</td>\n",
       "      <td>105.28</td>\n",
       "      <td>105.580</td>\n",
       "      <td>27408650</td>\n",
       "      <td>24.855171</td>\n",
       "      <td>24.885692</td>\n",
       "      <td>24.716657</td>\n",
       "      <td>24.787088</td>\n",
       "      <td>109634600</td>\n",
       "      <td>0.57</td>\n",
       "      <td>1.0</td>\n",
       "    </tr>\n",
       "    <tr>\n",
       "      <th>...</th>\n",
       "      <td>...</td>\n",
       "      <td>...</td>\n",
       "      <td>...</td>\n",
       "      <td>...</td>\n",
       "      <td>...</td>\n",
       "      <td>...</td>\n",
       "      <td>...</td>\n",
       "      <td>...</td>\n",
       "      <td>...</td>\n",
       "      <td>...</td>\n",
       "      <td>...</td>\n",
       "      <td>...</td>\n",
       "    </tr>\n",
       "    <tr>\n",
       "      <th>2021-07-21 00:00:00+00:00</th>\n",
       "      <td>145.40</td>\n",
       "      <td>146.1300</td>\n",
       "      <td>144.63</td>\n",
       "      <td>145.530</td>\n",
       "      <td>74993460</td>\n",
       "      <td>145.400000</td>\n",
       "      <td>146.130000</td>\n",
       "      <td>144.630000</td>\n",
       "      <td>145.530000</td>\n",
       "      <td>74993460</td>\n",
       "      <td>0.00</td>\n",
       "      <td>1.0</td>\n",
       "    </tr>\n",
       "    <tr>\n",
       "      <th>2021-07-22 00:00:00+00:00</th>\n",
       "      <td>146.80</td>\n",
       "      <td>148.1950</td>\n",
       "      <td>145.81</td>\n",
       "      <td>145.935</td>\n",
       "      <td>77338156</td>\n",
       "      <td>146.800000</td>\n",
       "      <td>148.195000</td>\n",
       "      <td>145.810000</td>\n",
       "      <td>145.935000</td>\n",
       "      <td>77338156</td>\n",
       "      <td>0.00</td>\n",
       "      <td>1.0</td>\n",
       "    </tr>\n",
       "    <tr>\n",
       "      <th>2021-07-23 00:00:00+00:00</th>\n",
       "      <td>148.56</td>\n",
       "      <td>148.7177</td>\n",
       "      <td>146.92</td>\n",
       "      <td>147.550</td>\n",
       "      <td>71447416</td>\n",
       "      <td>148.560000</td>\n",
       "      <td>148.717700</td>\n",
       "      <td>146.920000</td>\n",
       "      <td>147.550000</td>\n",
       "      <td>71447416</td>\n",
       "      <td>0.00</td>\n",
       "      <td>1.0</td>\n",
       "    </tr>\n",
       "    <tr>\n",
       "      <th>2021-07-26 00:00:00+00:00</th>\n",
       "      <td>148.99</td>\n",
       "      <td>149.8300</td>\n",
       "      <td>147.70</td>\n",
       "      <td>148.270</td>\n",
       "      <td>72434089</td>\n",
       "      <td>148.990000</td>\n",
       "      <td>149.830000</td>\n",
       "      <td>147.700000</td>\n",
       "      <td>148.270000</td>\n",
       "      <td>72434089</td>\n",
       "      <td>0.00</td>\n",
       "      <td>1.0</td>\n",
       "    </tr>\n",
       "    <tr>\n",
       "      <th>2021-07-27 00:00:00+00:00</th>\n",
       "      <td>146.77</td>\n",
       "      <td>149.2100</td>\n",
       "      <td>145.55</td>\n",
       "      <td>149.120</td>\n",
       "      <td>104818578</td>\n",
       "      <td>146.770000</td>\n",
       "      <td>149.210000</td>\n",
       "      <td>145.550000</td>\n",
       "      <td>149.120000</td>\n",
       "      <td>104818578</td>\n",
       "      <td>0.00</td>\n",
       "      <td>1.0</td>\n",
       "    </tr>\n",
       "  </tbody>\n",
       "</table>\n",
       "<p>1257 rows × 12 columns</p>\n",
       "</div>"
      ],
      "text/plain": [
       "                                   close      high     low     open  \\\n",
       "symbol date                                                           \n",
       "AAPL   2016-07-29 00:00:00+00:00  104.21  104.5500  103.68  104.190   \n",
       "       2016-08-01 00:00:00+00:00  106.05  106.1500  104.41  104.410   \n",
       "       2016-08-02 00:00:00+00:00  104.48  106.0700  104.00  106.050   \n",
       "       2016-08-03 00:00:00+00:00  105.79  105.8400  104.77  104.810   \n",
       "       2016-08-04 00:00:00+00:00  105.87  106.0000  105.28  105.580   \n",
       "...                                  ...       ...     ...      ...   \n",
       "       2021-07-21 00:00:00+00:00  145.40  146.1300  144.63  145.530   \n",
       "       2021-07-22 00:00:00+00:00  146.80  148.1950  145.81  145.935   \n",
       "       2021-07-23 00:00:00+00:00  148.56  148.7177  146.92  147.550   \n",
       "       2021-07-26 00:00:00+00:00  148.99  149.8300  147.70  148.270   \n",
       "       2021-07-27 00:00:00+00:00  146.77  149.2100  145.55  149.120   \n",
       "\n",
       "                                     volume    adjClose     adjHigh  \\\n",
       "symbol date                                                           \n",
       "AAPL   2016-07-29 00:00:00+00:00   27733688   24.334436   24.413831   \n",
       "       2016-08-01 00:00:00+00:00   38167871   24.764101   24.787452   \n",
       "       2016-08-02 00:00:00+00:00   33816556   24.397485   24.768771   \n",
       "       2016-08-03 00:00:00+00:00   30202641   24.703388   24.715063   \n",
       "       2016-08-04 00:00:00+00:00   27408650   24.855171   24.885692   \n",
       "...                                     ...         ...         ...   \n",
       "       2021-07-21 00:00:00+00:00   74993460  145.400000  146.130000   \n",
       "       2021-07-22 00:00:00+00:00   77338156  146.800000  148.195000   \n",
       "       2021-07-23 00:00:00+00:00   71447416  148.560000  148.717700   \n",
       "       2021-07-26 00:00:00+00:00   72434089  148.990000  149.830000   \n",
       "       2021-07-27 00:00:00+00:00  104818578  146.770000  149.210000   \n",
       "\n",
       "                                      adjLow     adjOpen  adjVolume  divCash  \\\n",
       "symbol date                                                                    \n",
       "AAPL   2016-07-29 00:00:00+00:00   24.210674   24.329766  110934752     0.00   \n",
       "       2016-08-01 00:00:00+00:00   24.381139   24.381139  152671484     0.00   \n",
       "       2016-08-02 00:00:00+00:00   24.285399   24.764101  135266224     0.00   \n",
       "       2016-08-03 00:00:00+00:00   24.465204   24.474544  120810564     0.00   \n",
       "       2016-08-04 00:00:00+00:00   24.716657   24.787088  109634600     0.57   \n",
       "...                                      ...         ...        ...      ...   \n",
       "       2021-07-21 00:00:00+00:00  144.630000  145.530000   74993460     0.00   \n",
       "       2021-07-22 00:00:00+00:00  145.810000  145.935000   77338156     0.00   \n",
       "       2021-07-23 00:00:00+00:00  146.920000  147.550000   71447416     0.00   \n",
       "       2021-07-26 00:00:00+00:00  147.700000  148.270000   72434089     0.00   \n",
       "       2021-07-27 00:00:00+00:00  145.550000  149.120000  104818578     0.00   \n",
       "\n",
       "                                  splitFactor  \n",
       "symbol date                                    \n",
       "AAPL   2016-07-29 00:00:00+00:00          1.0  \n",
       "       2016-08-01 00:00:00+00:00          1.0  \n",
       "       2016-08-02 00:00:00+00:00          1.0  \n",
       "       2016-08-03 00:00:00+00:00          1.0  \n",
       "       2016-08-04 00:00:00+00:00          1.0  \n",
       "...                                       ...  \n",
       "       2021-07-21 00:00:00+00:00          1.0  \n",
       "       2021-07-22 00:00:00+00:00          1.0  \n",
       "       2021-07-23 00:00:00+00:00          1.0  \n",
       "       2021-07-26 00:00:00+00:00          1.0  \n",
       "       2021-07-27 00:00:00+00:00          1.0  \n",
       "\n",
       "[1257 rows x 12 columns]"
      ]
     },
     "metadata": {},
     "execution_count": 3
    }
   ],
   "metadata": {}
  },
  {
   "cell_type": "code",
   "execution_count": 4,
   "source": [
    "df.to_csv('AAPL.csv')"
   ],
   "outputs": [],
   "metadata": {}
  },
  {
   "cell_type": "code",
   "execution_count": 5,
   "source": [
    "import pandas as pd"
   ],
   "outputs": [],
   "metadata": {}
  },
  {
   "cell_type": "code",
   "execution_count": 6,
   "source": [
    "df = pd.read_csv('AAPL.csv')"
   ],
   "outputs": [],
   "metadata": {}
  },
  {
   "cell_type": "code",
   "execution_count": 7,
   "source": [
    "df.head()"
   ],
   "outputs": [
    {
     "output_type": "execute_result",
     "data": {
      "text/html": [
       "<div>\n",
       "<style scoped>\n",
       "    .dataframe tbody tr th:only-of-type {\n",
       "        vertical-align: middle;\n",
       "    }\n",
       "\n",
       "    .dataframe tbody tr th {\n",
       "        vertical-align: top;\n",
       "    }\n",
       "\n",
       "    .dataframe thead th {\n",
       "        text-align: right;\n",
       "    }\n",
       "</style>\n",
       "<table border=\"1\" class=\"dataframe\">\n",
       "  <thead>\n",
       "    <tr style=\"text-align: right;\">\n",
       "      <th></th>\n",
       "      <th>symbol</th>\n",
       "      <th>date</th>\n",
       "      <th>close</th>\n",
       "      <th>high</th>\n",
       "      <th>low</th>\n",
       "      <th>open</th>\n",
       "      <th>volume</th>\n",
       "      <th>adjClose</th>\n",
       "      <th>adjHigh</th>\n",
       "      <th>adjLow</th>\n",
       "      <th>adjOpen</th>\n",
       "      <th>adjVolume</th>\n",
       "      <th>divCash</th>\n",
       "      <th>splitFactor</th>\n",
       "    </tr>\n",
       "  </thead>\n",
       "  <tbody>\n",
       "    <tr>\n",
       "      <th>0</th>\n",
       "      <td>AAPL</td>\n",
       "      <td>2016-07-29 00:00:00+00:00</td>\n",
       "      <td>104.21</td>\n",
       "      <td>104.55</td>\n",
       "      <td>103.68</td>\n",
       "      <td>104.19</td>\n",
       "      <td>27733688</td>\n",
       "      <td>24.334436</td>\n",
       "      <td>24.413831</td>\n",
       "      <td>24.210674</td>\n",
       "      <td>24.329766</td>\n",
       "      <td>110934752</td>\n",
       "      <td>0.00</td>\n",
       "      <td>1.0</td>\n",
       "    </tr>\n",
       "    <tr>\n",
       "      <th>1</th>\n",
       "      <td>AAPL</td>\n",
       "      <td>2016-08-01 00:00:00+00:00</td>\n",
       "      <td>106.05</td>\n",
       "      <td>106.15</td>\n",
       "      <td>104.41</td>\n",
       "      <td>104.41</td>\n",
       "      <td>38167871</td>\n",
       "      <td>24.764101</td>\n",
       "      <td>24.787452</td>\n",
       "      <td>24.381139</td>\n",
       "      <td>24.381139</td>\n",
       "      <td>152671484</td>\n",
       "      <td>0.00</td>\n",
       "      <td>1.0</td>\n",
       "    </tr>\n",
       "    <tr>\n",
       "      <th>2</th>\n",
       "      <td>AAPL</td>\n",
       "      <td>2016-08-02 00:00:00+00:00</td>\n",
       "      <td>104.48</td>\n",
       "      <td>106.07</td>\n",
       "      <td>104.00</td>\n",
       "      <td>106.05</td>\n",
       "      <td>33816556</td>\n",
       "      <td>24.397485</td>\n",
       "      <td>24.768771</td>\n",
       "      <td>24.285399</td>\n",
       "      <td>24.764101</td>\n",
       "      <td>135266224</td>\n",
       "      <td>0.00</td>\n",
       "      <td>1.0</td>\n",
       "    </tr>\n",
       "    <tr>\n",
       "      <th>3</th>\n",
       "      <td>AAPL</td>\n",
       "      <td>2016-08-03 00:00:00+00:00</td>\n",
       "      <td>105.79</td>\n",
       "      <td>105.84</td>\n",
       "      <td>104.77</td>\n",
       "      <td>104.81</td>\n",
       "      <td>30202641</td>\n",
       "      <td>24.703388</td>\n",
       "      <td>24.715063</td>\n",
       "      <td>24.465204</td>\n",
       "      <td>24.474544</td>\n",
       "      <td>120810564</td>\n",
       "      <td>0.00</td>\n",
       "      <td>1.0</td>\n",
       "    </tr>\n",
       "    <tr>\n",
       "      <th>4</th>\n",
       "      <td>AAPL</td>\n",
       "      <td>2016-08-04 00:00:00+00:00</td>\n",
       "      <td>105.87</td>\n",
       "      <td>106.00</td>\n",
       "      <td>105.28</td>\n",
       "      <td>105.58</td>\n",
       "      <td>27408650</td>\n",
       "      <td>24.855171</td>\n",
       "      <td>24.885692</td>\n",
       "      <td>24.716657</td>\n",
       "      <td>24.787088</td>\n",
       "      <td>109634600</td>\n",
       "      <td>0.57</td>\n",
       "      <td>1.0</td>\n",
       "    </tr>\n",
       "  </tbody>\n",
       "</table>\n",
       "</div>"
      ],
      "text/plain": [
       "  symbol                       date   close    high     low    open    volume  \\\n",
       "0   AAPL  2016-07-29 00:00:00+00:00  104.21  104.55  103.68  104.19  27733688   \n",
       "1   AAPL  2016-08-01 00:00:00+00:00  106.05  106.15  104.41  104.41  38167871   \n",
       "2   AAPL  2016-08-02 00:00:00+00:00  104.48  106.07  104.00  106.05  33816556   \n",
       "3   AAPL  2016-08-03 00:00:00+00:00  105.79  105.84  104.77  104.81  30202641   \n",
       "4   AAPL  2016-08-04 00:00:00+00:00  105.87  106.00  105.28  105.58  27408650   \n",
       "\n",
       "    adjClose    adjHigh     adjLow    adjOpen  adjVolume  divCash  splitFactor  \n",
       "0  24.334436  24.413831  24.210674  24.329766  110934752     0.00          1.0  \n",
       "1  24.764101  24.787452  24.381139  24.381139  152671484     0.00          1.0  \n",
       "2  24.397485  24.768771  24.285399  24.764101  135266224     0.00          1.0  \n",
       "3  24.703388  24.715063  24.465204  24.474544  120810564     0.00          1.0  \n",
       "4  24.855171  24.885692  24.716657  24.787088  109634600     0.57          1.0  "
      ]
     },
     "metadata": {},
     "execution_count": 7
    }
   ],
   "metadata": {}
  },
  {
   "cell_type": "code",
   "execution_count": 8,
   "source": [
    "df.tail()"
   ],
   "outputs": [
    {
     "output_type": "execute_result",
     "data": {
      "text/html": [
       "<div>\n",
       "<style scoped>\n",
       "    .dataframe tbody tr th:only-of-type {\n",
       "        vertical-align: middle;\n",
       "    }\n",
       "\n",
       "    .dataframe tbody tr th {\n",
       "        vertical-align: top;\n",
       "    }\n",
       "\n",
       "    .dataframe thead th {\n",
       "        text-align: right;\n",
       "    }\n",
       "</style>\n",
       "<table border=\"1\" class=\"dataframe\">\n",
       "  <thead>\n",
       "    <tr style=\"text-align: right;\">\n",
       "      <th></th>\n",
       "      <th>symbol</th>\n",
       "      <th>date</th>\n",
       "      <th>close</th>\n",
       "      <th>high</th>\n",
       "      <th>low</th>\n",
       "      <th>open</th>\n",
       "      <th>volume</th>\n",
       "      <th>adjClose</th>\n",
       "      <th>adjHigh</th>\n",
       "      <th>adjLow</th>\n",
       "      <th>adjOpen</th>\n",
       "      <th>adjVolume</th>\n",
       "      <th>divCash</th>\n",
       "      <th>splitFactor</th>\n",
       "    </tr>\n",
       "  </thead>\n",
       "  <tbody>\n",
       "    <tr>\n",
       "      <th>1252</th>\n",
       "      <td>AAPL</td>\n",
       "      <td>2021-07-21 00:00:00+00:00</td>\n",
       "      <td>145.40</td>\n",
       "      <td>146.1300</td>\n",
       "      <td>144.63</td>\n",
       "      <td>145.530</td>\n",
       "      <td>74993460</td>\n",
       "      <td>145.40</td>\n",
       "      <td>146.1300</td>\n",
       "      <td>144.63</td>\n",
       "      <td>145.530</td>\n",
       "      <td>74993460</td>\n",
       "      <td>0.0</td>\n",
       "      <td>1.0</td>\n",
       "    </tr>\n",
       "    <tr>\n",
       "      <th>1253</th>\n",
       "      <td>AAPL</td>\n",
       "      <td>2021-07-22 00:00:00+00:00</td>\n",
       "      <td>146.80</td>\n",
       "      <td>148.1950</td>\n",
       "      <td>145.81</td>\n",
       "      <td>145.935</td>\n",
       "      <td>77338156</td>\n",
       "      <td>146.80</td>\n",
       "      <td>148.1950</td>\n",
       "      <td>145.81</td>\n",
       "      <td>145.935</td>\n",
       "      <td>77338156</td>\n",
       "      <td>0.0</td>\n",
       "      <td>1.0</td>\n",
       "    </tr>\n",
       "    <tr>\n",
       "      <th>1254</th>\n",
       "      <td>AAPL</td>\n",
       "      <td>2021-07-23 00:00:00+00:00</td>\n",
       "      <td>148.56</td>\n",
       "      <td>148.7177</td>\n",
       "      <td>146.92</td>\n",
       "      <td>147.550</td>\n",
       "      <td>71447416</td>\n",
       "      <td>148.56</td>\n",
       "      <td>148.7177</td>\n",
       "      <td>146.92</td>\n",
       "      <td>147.550</td>\n",
       "      <td>71447416</td>\n",
       "      <td>0.0</td>\n",
       "      <td>1.0</td>\n",
       "    </tr>\n",
       "    <tr>\n",
       "      <th>1255</th>\n",
       "      <td>AAPL</td>\n",
       "      <td>2021-07-26 00:00:00+00:00</td>\n",
       "      <td>148.99</td>\n",
       "      <td>149.8300</td>\n",
       "      <td>147.70</td>\n",
       "      <td>148.270</td>\n",
       "      <td>72434089</td>\n",
       "      <td>148.99</td>\n",
       "      <td>149.8300</td>\n",
       "      <td>147.70</td>\n",
       "      <td>148.270</td>\n",
       "      <td>72434089</td>\n",
       "      <td>0.0</td>\n",
       "      <td>1.0</td>\n",
       "    </tr>\n",
       "    <tr>\n",
       "      <th>1256</th>\n",
       "      <td>AAPL</td>\n",
       "      <td>2021-07-27 00:00:00+00:00</td>\n",
       "      <td>146.77</td>\n",
       "      <td>149.2100</td>\n",
       "      <td>145.55</td>\n",
       "      <td>149.120</td>\n",
       "      <td>104818578</td>\n",
       "      <td>146.77</td>\n",
       "      <td>149.2100</td>\n",
       "      <td>145.55</td>\n",
       "      <td>149.120</td>\n",
       "      <td>104818578</td>\n",
       "      <td>0.0</td>\n",
       "      <td>1.0</td>\n",
       "    </tr>\n",
       "  </tbody>\n",
       "</table>\n",
       "</div>"
      ],
      "text/plain": [
       "     symbol                       date   close      high     low     open  \\\n",
       "1252   AAPL  2021-07-21 00:00:00+00:00  145.40  146.1300  144.63  145.530   \n",
       "1253   AAPL  2021-07-22 00:00:00+00:00  146.80  148.1950  145.81  145.935   \n",
       "1254   AAPL  2021-07-23 00:00:00+00:00  148.56  148.7177  146.92  147.550   \n",
       "1255   AAPL  2021-07-26 00:00:00+00:00  148.99  149.8300  147.70  148.270   \n",
       "1256   AAPL  2021-07-27 00:00:00+00:00  146.77  149.2100  145.55  149.120   \n",
       "\n",
       "         volume  adjClose   adjHigh  adjLow  adjOpen  adjVolume  divCash  \\\n",
       "1252   74993460    145.40  146.1300  144.63  145.530   74993460      0.0   \n",
       "1253   77338156    146.80  148.1950  145.81  145.935   77338156      0.0   \n",
       "1254   71447416    148.56  148.7177  146.92  147.550   71447416      0.0   \n",
       "1255   72434089    148.99  149.8300  147.70  148.270   72434089      0.0   \n",
       "1256  104818578    146.77  149.2100  145.55  149.120  104818578      0.0   \n",
       "\n",
       "      splitFactor  \n",
       "1252          1.0  \n",
       "1253          1.0  \n",
       "1254          1.0  \n",
       "1255          1.0  \n",
       "1256          1.0  "
      ]
     },
     "metadata": {},
     "execution_count": 8
    }
   ],
   "metadata": {}
  },
  {
   "cell_type": "code",
   "execution_count": 9,
   "source": [
    "df1=df.reset_index()['close']"
   ],
   "outputs": [],
   "metadata": {}
  },
  {
   "cell_type": "code",
   "execution_count": 10,
   "source": [
    "df1"
   ],
   "outputs": [
    {
     "output_type": "execute_result",
     "data": {
      "text/plain": [
       "0       104.21\n",
       "1       106.05\n",
       "2       104.48\n",
       "3       105.79\n",
       "4       105.87\n",
       "         ...  \n",
       "1252    145.40\n",
       "1253    146.80\n",
       "1254    148.56\n",
       "1255    148.99\n",
       "1256    146.77\n",
       "Name: close, Length: 1257, dtype: float64"
      ]
     },
     "metadata": {},
     "execution_count": 10
    }
   ],
   "metadata": {}
  },
  {
   "cell_type": "code",
   "execution_count": 11,
   "source": [
    "import matplotlib.pyplot as plt"
   ],
   "outputs": [],
   "metadata": {}
  },
  {
   "cell_type": "code",
   "execution_count": 12,
   "source": [
    "plt.plot(df1)"
   ],
   "outputs": [
    {
     "output_type": "execute_result",
     "data": {
      "text/plain": [
       "[<matplotlib.lines.Line2D at 0x1e9f056bc88>]"
      ]
     },
     "metadata": {},
     "execution_count": 12
    },
    {
     "output_type": "display_data",
     "data": {
      "image/png": "[encoded data removed]",
      "text/plain": [
       "<Figure size 432x288 with 1 Axes>"
      ]
     },
     "metadata": {
      "needs_background": "light"
     }
    }
   ],
   "metadata": {}
  },
  {
   "cell_type": "code",
   "execution_count": 13,
   "source": [
    "import numpy as np"
   ],
   "outputs": [],
   "metadata": {}
  },
  {
   "cell_type": "code",
   "execution_count": 14,
   "source": [
    "from sklearn.preprocessing import MinMaxScaler"
   ],
   "outputs": [],
   "metadata": {}
  },
  {
   "cell_type": "code",
   "execution_count": 15,
   "source": [
    "scalar = MinMaxScaler(feature_range=(0,1))\r\n",
    "df1 = scalar.fit_transform(np.array(df1).reshape(-1,1))"
   ],
   "outputs": [],
   "metadata": {}
  },
  {
   "cell_type": "code",
   "execution_count": 16,
   "source": [
    "df1"
   ],
   "outputs": [
    {
     "output_type": "execute_result",
     "data": {
      "text/plain": [
       "array([[0.00268017],\n",
       "       [0.00724638],\n",
       "       [0.00335021],\n",
       "       ...,\n",
       "       [0.11274072],\n",
       "       [0.11380782],\n",
       "       [0.10829859]])"
      ]
     },
     "metadata": {},
     "execution_count": 16
    }
   ],
   "metadata": {}
  },
  {
   "cell_type": "code",
   "execution_count": 17,
   "source": [
    "df1.shape"
   ],
   "outputs": [
    {
     "output_type": "execute_result",
     "data": {
      "text/plain": [
       "(1257, 1)"
      ]
     },
     "metadata": {},
     "execution_count": 17
    }
   ],
   "metadata": {}
  },
  {
   "cell_type": "markdown",
   "source": [
    "## Preprocess\r\n",
    "### Spliting the data in test and train\r\n",
    "#### Data is in time-series therefore next data is effected by previous data"
   ],
   "metadata": {}
  },
  {
   "cell_type": "code",
   "execution_count": 42,
   "source": [
    "trainig_size = int(len(df1)*0.65)\r\n",
    "test_size = len(df1) - trainig_size\r\n",
    "train_data,test_data = df1[:trainig_size,:],df1[trainig_size:len(df1),:]"
   ],
   "outputs": [],
   "metadata": {}
  },
  {
   "cell_type": "code",
   "execution_count": 43,
   "source": [
    "trainig_size"
   ],
   "outputs": [
    {
     "output_type": "execute_result",
     "data": {
      "text/plain": [
       "817"
      ]
     },
     "metadata": {},
     "execution_count": 43
    }
   ],
   "metadata": {}
  },
  {
   "cell_type": "code",
   "execution_count": 44,
   "source": [
    "test_size"
   ],
   "outputs": [
    {
     "output_type": "execute_result",
     "data": {
      "text/plain": [
       "440"
      ]
     },
     "metadata": {},
     "execution_count": 44
    }
   ],
   "metadata": {}
  },
  {
   "cell_type": "code",
   "execution_count": 45,
   "source": [
    "len(train_data),len(test_data)"
   ],
   "outputs": [
    {
     "output_type": "execute_result",
     "data": {
      "text/plain": [
       "(817, 440)"
      ]
     },
     "metadata": {},
     "execution_count": 45
    }
   ],
   "metadata": {}
  },
  {
   "cell_type": "code",
   "execution_count": 22,
   "source": [
    "# train_data"
   ],
   "outputs": [],
   "metadata": {}
  },
  {
   "cell_type": "markdown",
   "source": [
    "## Preprocessing"
   ],
   "metadata": {}
  },
  {
   "cell_type": "code",
   "execution_count": 23,
   "source": [
    "def create_dataset(dataset,time_step=1):\r\n",
    "    X,y = [],[]\r\n",
    "    for i in range(len(dataset)-time_step-1):\r\n",
    "        X.append(dataset[i:(i+time_step),0])\r\n",
    "        y.append(dataset[i+time_step,0])\r\n",
    "    return np.array(X), np.array(y)\r\n"
   ],
   "outputs": [],
   "metadata": {}
  },
  {
   "cell_type": "code",
   "execution_count": 24,
   "source": [
    "time_step = 100\r\n",
    "X_train,y_train = create_dataset(train_data,time_step)\r\n",
    "X_test,y_test = create_dataset(test_data,time_step)"
   ],
   "outputs": [],
   "metadata": {}
  },
  {
   "cell_type": "code",
   "execution_count": 25,
   "source": [
    "X_train"
   ],
   "outputs": [
    {
     "output_type": "execute_result",
     "data": {
      "text/plain": [
       "array([[0.00268017, 0.00724638, 0.00335021, ..., 0.03149196, 0.0318642 ,\n",
       "        0.0335269 ],\n",
       "       [0.00724638, 0.00335021, 0.00660115, ..., 0.0318642 , 0.0335269 ,\n",
       "        0.03429621],\n",
       "       [0.00335021, 0.00660115, 0.00679968, ..., 0.0335269 , 0.03429621,\n",
       "        0.03456919],\n",
       "       ...,\n",
       "       [0.17852889, 0.17413639, 0.18986996, ..., 0.32794818, 0.33075243,\n",
       "        0.34092714],\n",
       "       [0.17413639, 0.18986996, 0.19706671, ..., 0.33075243, 0.34092714,\n",
       "        0.33956224],\n",
       "       [0.18986996, 0.19706671, 0.20371749, ..., 0.34092714, 0.33956224,\n",
       "        0.34755311]])"
      ]
     },
     "metadata": {},
     "execution_count": 25
    }
   ],
   "metadata": {}
  },
  {
   "cell_type": "code",
   "execution_count": 26,
   "source": [
    "print(X_train.shape,X_test.shape,y_train.shape,y_test.shape)"
   ],
   "outputs": [
    {
     "output_type": "stream",
     "name": "stdout",
     "text": [
      "(716, 100) (339, 100) (716,) (339,)\n"
     ]
    }
   ],
   "metadata": {}
  },
  {
   "cell_type": "code",
   "execution_count": 27,
   "source": [
    "## reshape input to be [samples, time steps, features/units in one input] which is required for LSTM (3 DIMENSION data)\r\n",
    "X_train = X_train.reshape(X_train.shape[0],X_train.shape[1],1)\r\n",
    "X_test = X_test.reshape(X_test.shape[0],X_test.shape[1],1)"
   ],
   "outputs": [],
   "metadata": {}
  },
  {
   "cell_type": "code",
   "execution_count": 28,
   "source": [
    "print(X_train.shape)"
   ],
   "outputs": [
    {
     "output_type": "stream",
     "name": "stdout",
     "text": [
      "(716, 100, 1)\n"
     ]
    }
   ],
   "metadata": {}
  },
  {
   "cell_type": "code",
   "execution_count": 29,
   "source": [
    "## creating stacked LSTM Model\r\n",
    "from tensorflow import keras"
   ],
   "outputs": [],
   "metadata": {}
  },
  {
   "cell_type": "code",
   "execution_count": 30,
   "source": [
    "from keras.models import Sequential\r\n",
    "from keras.layers import Dense, LSTM"
   ],
   "outputs": [
    {
     "output_type": "stream",
     "name": "stderr",
     "text": [
      "Using TensorFlow backend.\n"
     ]
    }
   ],
   "metadata": {}
  },
  {
   "cell_type": "code",
   "execution_count": 31,
   "source": [
    "model = Sequential()\r\n",
    "model.add(LSTM(50,return_sequences=True,input_shape=(100,1)))\r\n",
    "model.add(LSTM(50,return_sequences=True))\r\n",
    "model.add(LSTM(50))\r\n",
    "model.add(Dense(1))\r\n",
    "model.compile(loss='mean_squared_error',optimizer='adam')\r\n"
   ],
   "outputs": [],
   "metadata": {}
  },
  {
   "cell_type": "code",
   "execution_count": 32,
   "source": [
    "model.summary()"
   ],
   "outputs": [
    {
     "output_type": "stream",
     "name": "stdout",
     "text": [
      "Model: \"sequential_1\"\n",
      "_________________________________________________________________\n",
      "Layer (type)                 Output Shape              Param #   \n",
      "=================================================================\n",
      "lstm_1 (LSTM)                (None, 100, 50)           10400     \n",
      "_________________________________________________________________\n",
      "lstm_2 (LSTM)                (None, 100, 50)           20200     \n",
      "_________________________________________________________________\n",
      "lstm_3 (LSTM)                (None, 50)                20200     \n",
      "_________________________________________________________________\n",
      "dense_1 (Dense)              (None, 1)                 51        \n",
      "=================================================================\n",
      "Total params: 50,851\n",
      "Trainable params: 50,851\n",
      "Non-trainable params: 0\n",
      "_________________________________________________________________\n"
     ]
    }
   ],
   "metadata": {}
  },
  {
   "cell_type": "code",
   "execution_count": null,
   "source": [
    "model.fit(X_train,y_train,validation_data=(X_test,y_test),epochs=100,batch_size=64,verbose=1)"
   ],
   "outputs": [],
   "metadata": {}
  },
  {
   "cell_type": "code",
   "execution_count": 34,
   "source": [
    "train_predict = model.predict(X_train)\r\n",
    "test_predict = model.predict(X_test)"
   ],
   "outputs": [],
   "metadata": {}
  },
  {
   "cell_type": "code",
   "execution_count": 35,
   "source": [
    "## For getting actual answers\r\n",
    "\r\n",
    "train_predict = scalar.inverse_transform(train_predict)\r\n",
    "test_predict = scalar.inverse_transform(test_predict)"
   ],
   "outputs": [],
   "metadata": {}
  },
  {
   "cell_type": "code",
   "execution_count": 36,
   "source": [
    "import math\r\n",
    "from sklearn.metrics import mean_squared_error\r\n",
    "\r\n",
    "math.sqrt(mean_squared_error(y_train,train_predict))"
   ],
   "outputs": [
    {
     "output_type": "execute_result",
     "data": {
      "text/plain": [
       "176.92485778916162"
      ]
     },
     "metadata": {},
     "execution_count": 36
    }
   ],
   "metadata": {}
  },
  {
   "cell_type": "code",
   "execution_count": 40,
   "source": [
    "math.sqrt(mean_squared_error(y_test,test_predict))"
   ],
   "outputs": [
    {
     "output_type": "execute_result",
     "data": {
      "text/plain": [
       "219.87371738638944"
      ]
     },
     "metadata": {},
     "execution_count": 40
    }
   ],
   "metadata": {}
  },
  {
   "cell_type": "markdown",
   "source": [
    "## Next 30 day output prediction"
   ],
   "metadata": {}
  },
  {
   "cell_type": "code",
   "execution_count": 59,
   "source": [
    "len(test_data)"
   ],
   "outputs": [
    {
     "output_type": "execute_result",
     "data": {
      "text/plain": [
       "440"
      ]
     },
     "metadata": {},
     "execution_count": 59
    }
   ],
   "metadata": {}
  },
  {
   "cell_type": "code",
   "execution_count": 60,
   "source": [
    "x_input=test_data[340:].reshape(1,-1)\r\n",
    "x_input.shape\r\n"
   ],
   "outputs": [
    {
     "output_type": "execute_result",
     "data": {
      "text/plain": [
       "(1, 100)"
      ]
     },
     "metadata": {},
     "execution_count": 60
    }
   ],
   "metadata": {}
  },
  {
   "cell_type": "code",
   "execution_count": 61,
   "source": [
    "temp_input=list(x_input)\r\n",
    "temp_input=temp_input[0].tolist()"
   ],
   "outputs": [],
   "metadata": {}
  },
  {
   "cell_type": "code",
   "execution_count": null,
   "source": [],
   "outputs": [],
   "metadata": {}
  },
  {
   "cell_type": "code",
   "execution_count": null,
   "source": [
    "lst_output=[]\r\n",
    "n_steps=100\r\n",
    "i=0\r\n",
    "while(i<30):\r\n",
    "    \r\n",
    "    if(len(temp_input)>100):\r\n",
    "        #print(temp_input)\r\n",
    "        x_input=np.array(temp_input[1:])  ## shape - (100,)\r\n",
    "        # print(\"{} day input- {}\".format(i,x_input),\"\\n\")\r\n",
    "        x_input=x_input.reshape(1,-1)  ## shape - (,100)\r\n",
    "        x_input = x_input.reshape((1, n_steps, 1)) ## shape(1,100,1)\r\n",
    "        #print(x_input)\r\n",
    "        yhat = model.predict(x_input, verbose=0)\r\n",
    "        print(\"{} day output {}\".format(i,yhat[0]))\r\n",
    "        temp_input.extend(yhat[0].tolist())\r\n",
    "        temp_input=temp_input[1:]\r\n",
    "        #print(temp_input)\r\n",
    "        lst_output.extend(yhat.tolist())\r\n",
    "        i=i+1\r\n",
    "    else:\r\n",
    "        x_input = x_input.reshape((1, n_steps,1))\r\n",
    "        yhat = model.predict(x_input, verbose=0)\r\n",
    "        print(yhat[0])\r\n",
    "        temp_input.extend(yhat[0].tolist())\r\n",
    "        print(len(temp_input))\r\n",
    "        lst_output.extend(yhat.tolist())\r\n",
    "        i=i+1"
   ],
   "outputs": [],
   "metadata": {}
  },
  {
   "cell_type": "code",
   "execution_count": 64,
   "source": [
    "print(lst_output)"
   ],
   "outputs": [
    {
     "output_type": "stream",
     "name": "stdout",
     "text": [
      "[[0.10652537643909454], [0.10737979412078857], [0.10764811187982559], [0.10755685716867447], [0.10731083899736404], [0.1070391908288002], [0.10680383443832397], [0.10662422329187393], [0.10649889707565308], [0.10641884058713913], [0.10637375712394714], [0.10635452717542648], [0.10635349899530411], [0.10636436939239502], [0.10638195276260376], [0.10640200227499008], [0.10642123967409134], [0.1064373105764389], [0.10644865781068802], [0.10645455867052078], [0.10645489394664764], [0.10645003616809845], [0.1064407154917717], [0.10642790794372559], [0.10641258209943771], [0.10639581084251404], [0.1063784807920456], [0.10636135935783386], [0.10634509474039078], [0.10633010417222977]]\n"
     ]
    }
   ],
   "metadata": {}
  }
 ],
 "metadata": {
  "orig_nbformat": 4,
  "language_info": {
   "name": "python",
   "version": "3.7.9",
   "mimetype": "text/x-python",
   "codemirror_mode": {
    "name": "ipython",
    "version": 3
   },
   "pygments_lexer": "ipython3",
   "nbconvert_exporter": "python",
   "file_extension": ".py"
  },
  "kernelspec": {
   "name": "python3",
   "display_name": "Python 3.7.9 64-bit ('tensorgpu': conda)"
  },
  "interpreter": {
   "hash": "b40a85f02c94cb24a7618e6112eae2a2840f78a9e2bc7fb79a2e8999e2b21cb8"
  }
 },
 "nbformat": 4,
 "nbformat_minor": 2
}